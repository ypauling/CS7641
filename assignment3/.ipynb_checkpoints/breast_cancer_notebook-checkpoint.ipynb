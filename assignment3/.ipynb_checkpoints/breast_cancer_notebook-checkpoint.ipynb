{
 "cells": [
  {
   "cell_type": "code",
   "execution_count": 1,
   "metadata": {},
   "outputs": [],
   "source": [
    "import numpy as np\n",
    "\n",
    "from helper_functions import get_covmats\n",
    "from helper_functions import plot_kmeans_2D\n",
    "from helper_functions import plot_em_2D\n",
    "from helper_functions import match_labels\n",
    "from helper_functions import calculate_distortions\n",
    "from helper_functions import plot_distortions\n",
    "from helper_functions import generate_and_plot_silhouette\n",
    "from helper_functions import generate_and_plot_bic_em\n",
    "\n",
    "from sklearn.datasets import load_breast_cancer\n",
    "from sklearn.cluster import KMeans\n",
    "from sklearn.mixture import GaussianMixture\n",
    "from sklearn.preprocessing import scale\n",
    "from sklearn.decomposition import PCA\n",
    "from sklearn.decomposition import FastICA\n",
    "from sklearn import random_projection\n",
    "# from sklearn.metrics import silhouette_score, silhouette_samples\n",
    "from sklearn.ensemble import RandomForestClassifier\n",
    "from sklearn.feature_selection import RFECV\n",
    "from sklearn.neural_network import MLPClassifier\n",
    "from sklearn.model_selection import cross_val_score\n",
    "\n",
    "import matplotlib.pyplot as plt\n",
    "# import matplotlib.cm as cm\n",
    "from scipy.stats import kurtosis\n",
    "import time\n",
    "\n",
    "NUM_CLASS = 2\n",
    "folder = 'figures/breast_cancer/'"
   ]
  },
  {
   "cell_type": "code",
   "execution_count": 2,
   "metadata": {},
   "outputs": [],
   "source": [
    "X_raw, y = load_breast_cancer(return_X_y=True)\n",
    "X = scale(X_raw)"
   ]
  },
  {
   "cell_type": "code",
   "execution_count": 5,
   "metadata": {},
   "outputs": [
    {
     "name": "stdout",
     "output_type": "stream",
     "text": [
      "Generate elbow plots...\n",
      "Done...\n"
     ]
    }
   ],
   "source": [
    "Ks = range(2, 20)\n",
    "\n",
    "print('Generate elbow plots...')\n",
    "distortions = np.zeros(len(Ks), dtype=np.float)\n",
    "for i, K in enumerate(Ks):\n",
    "    distortions[i] = calculate_distortions(K, X)\n",
    "plot_distortions(Ks, distortions, 'Raw Data', folder+'kmeans_raw_elbow.png')\n",
    "print('Done...')"
   ]
  },
  {
   "cell_type": "code",
   "execution_count": 6,
   "metadata": {},
   "outputs": [
    {
     "name": "stdout",
     "output_type": "stream",
     "text": [
      "Generate Silhouette plots...\n",
      "2\n",
      "Done...\n"
     ]
    }
   ],
   "source": [
    "print('Generate Silhouette plots...')\n",
    "vals = generate_and_plot_silhouette(\n",
    "    Ks, X, 'Raw Data', folder+'kmeans_raw_sil.png',\n",
    "    xleft=-0.2, ncols=10\n",
    ")\n",
    "print(np.argsort(vals)[::-1][0] + 2)\n",
    "print('Done...')"
   ]
  },
  {
   "cell_type": "code",
   "execution_count": 7,
   "metadata": {},
   "outputs": [
    {
     "name": "stdout",
     "output_type": "stream",
     "text": [
      "Plot k-means result...\n",
      "Total errors for Kmeans on raw: 51\n",
      "Done...\n",
      "Kmeans on raw data finished...\n"
     ]
    }
   ],
   "source": [
    "print('Plot k-means result...')\n",
    "K = 2\n",
    "km_est = KMeans(K, random_state=42)\n",
    "y_hat = km_est.fit_predict(X)\n",
    "y_hat, terrors, label_map = match_labels(y, y_hat, NUM_CLASS, K)\n",
    "print('Total errors for Kmeans on raw: {}'.format(terrors))\n",
    "plot_pca = PCA(2, random_state=42)\n",
    "projs = plot_pca.fit_transform(X)\n",
    "plot_kmeans_2D(projs[:, 0], projs[:, 1], y, y_hat,\n",
    "               plot_pca.transform(km_est.cluster_centers_), NUM_CLASS, K,\n",
    "               label_map, 'Raw data', folder+'kmeans_raw_result.png')\n",
    "print('Done...')\n",
    "\n",
    "print('Kmeans on raw data finished...')"
   ]
  },
  {
   "cell_type": "code",
   "execution_count": 8,
   "metadata": {},
   "outputs": [
    {
     "name": "stdout",
     "output_type": "stream",
     "text": [
      "\n",
      "Start using raw features for EM...\n",
      "Generate BIC bar plots...\n",
      "Done...\n"
     ]
    }
   ],
   "source": [
    "Ks = range(2, 20)\n",
    "\n",
    "print()\n",
    "print('Start using raw features for EM...')\n",
    "\n",
    "print('Generate BIC bar plots...')\n",
    "generate_and_plot_bic_em(Ks, X, 'Raw Data', folder+'em_raw_bic.png')\n",
    "print('Done...')"
   ]
  },
  {
   "cell_type": "code",
   "execution_count": 9,
   "metadata": {},
   "outputs": [
    {
     "name": "stdout",
     "output_type": "stream",
     "text": [
      "Generate Silhouette plots...\n",
      "2\n",
      "Done...\n"
     ]
    }
   ],
   "source": [
    "print('Generate Silhouette plots...')\n",
    "vals = generate_and_plot_silhouette(\n",
    "    Ks, X, 'Raw Data', folder+'em_raw_sil.png',\n",
    "    xleft=-0.2, ncols=10, method='EM'\n",
    ")\n",
    "print(np.argsort(vals)[::-1][0] + 2)\n",
    "print('Done...')"
   ]
  },
  {
   "cell_type": "code",
   "execution_count": 10,
   "metadata": {},
   "outputs": [
    {
     "name": "stdout",
     "output_type": "stream",
     "text": [
      "Plot EM result...\n",
      "Total errors for EM on raw: 35\n",
      "Done...\n",
      "EM on raw data finished...\n"
     ]
    }
   ],
   "source": [
    "print('Plot EM result...')\n",
    "K = 2\n",
    "em_est = GaussianMixture(K, 'full', random_state=42)\n",
    "y_hat = em_est.fit_predict(X)\n",
    "y_hat, terrors, label_map = match_labels(y, y_hat, NUM_CLASS, K)\n",
    "print('Total errors for EM on raw: {}'.format(terrors))\n",
    "plot_pca = PCA(2, random_state=42)\n",
    "projs = plot_pca.fit_transform(X)\n",
    "covs = get_covmats(em_est.covariances_, X.shape[1], K, 'full')\n",
    "covmats = np.matmul(\n",
    "    np.matmul(plot_pca.components_, covs),\n",
    "    plot_pca.components_.T\n",
    ")\n",
    "plot_em_2D(projs[:, 0], projs[:, 1], y, y_hat,\n",
    "           plot_pca.transform(em_est.means_), covmats, NUM_CLASS, K,\n",
    "           label_map, 'Raw Data', folder+'em_raw_result.png')\n",
    "print('Done...')\n",
    "\n",
    "print('EM on raw data finished...')"
   ]
  },
  {
   "cell_type": "code",
   "execution_count": 11,
   "metadata": {},
   "outputs": [
    {
     "name": "stdout",
     "output_type": "stream",
     "text": [
      "\n",
      "Start using PCA for pre-processing...\n",
      "Plotting explained variance against K...\n",
      "Done\n"
     ]
    }
   ],
   "source": [
    "print()\n",
    "print('Start using PCA for pre-processing...')\n",
    "\n",
    "print('Plotting explained variance against K...')\n",
    "K = X.shape[1]\n",
    "pca = PCA(K, random_state=42)\n",
    "X_pca = pca.fit_transform(X)\n",
    "\n",
    "fig = plt.figure(figsize=(10, 10))\n",
    "\n",
    "ax1 = fig.add_subplot(2, 1, 1)\n",
    "ax1.set_title('PCA variance explained')\n",
    "ax1.set_xlabel('K')\n",
    "ax1.set_ylabel('Percentage of variance')\n",
    "ax1.plot(\n",
    "    range(1, K+1), np.cumsum(pca.explained_variance_ratio_),\n",
    "    'o-', color='blue'\n",
    ")\n",
    "\n",
    "ax2 = fig.add_subplot(2, 1, 2)\n",
    "ax2.set_title('PCA eigenvalues')\n",
    "ax2.set_xlabel('K')\n",
    "ax2.set_ylabel('Eigenvalues')\n",
    "ax2.plot(\n",
    "    range(1, K+1), pca.explained_variance_,\n",
    "    'o-', color='red'\n",
    ")\n",
    "\n",
    "plt.savefig(folder+'pca_variance_explained.png', format='png')\n",
    "plt.close()\n",
    "print('Done')"
   ]
  },
  {
   "cell_type": "code",
   "execution_count": 12,
   "metadata": {},
   "outputs": [
    {
     "name": "stdout",
     "output_type": "stream",
     "text": [
      "Use 9 components (explained var > 0.9)...\n"
     ]
    }
   ],
   "source": [
    "K = np.sum(np.cumsum(pca.explained_variance_ratio_) <= 0.95)\n",
    "print('Use {} components (explained var > 0.9)...'.format(K))\n",
    "\n",
    "pca = PCA(K, random_state=42)\n",
    "X_pca = pca.fit_transform(X)"
   ]
  },
  {
   "cell_type": "code",
   "execution_count": 13,
   "metadata": {},
   "outputs": [
    {
     "name": "stdout",
     "output_type": "stream",
     "text": [
      "Start using PCA features for K-means...\n",
      "Generate elbow plots...\n",
      "Done...\n"
     ]
    }
   ],
   "source": [
    "Ks = range(2, 20)\n",
    "\n",
    "print('Start using PCA features for K-means...')\n",
    "\n",
    "print('Generate elbow plots...')\n",
    "distortions = np.zeros(len(Ks), dtype=np.float)\n",
    "for i, K in enumerate(Ks):\n",
    "    distortions[i] = calculate_distortions(K, X_pca)\n",
    "plot_distortions(Ks, distortions, 'PCA Data', folder+'kmeans_pca_elbow.png')\n",
    "print('Done...')"
   ]
  },
  {
   "cell_type": "code",
   "execution_count": 14,
   "metadata": {},
   "outputs": [
    {
     "name": "stdout",
     "output_type": "stream",
     "text": [
      "Generate Silhouette plots...\n",
      "2\n",
      "Done...\n"
     ]
    }
   ],
   "source": [
    "print('Generate Silhouette plots...')\n",
    "vals = generate_and_plot_silhouette(\n",
    "    Ks, X_pca, 'PCA Data', folder+'kmeans_pca_sil.png',\n",
    "    xleft=-0.2, ncols=10\n",
    ")\n",
    "print(np.argsort(vals)[::-1][0] + 2)\n",
    "print('Done...')"
   ]
  },
  {
   "cell_type": "code",
   "execution_count": 15,
   "metadata": {},
   "outputs": [
    {
     "name": "stdout",
     "output_type": "stream",
     "text": [
      "Plot k-means result...\n",
      "Total error for KMeans on PCA: 51\n",
      "Done...\n",
      "Kmeans on PCA data finished...\n"
     ]
    }
   ],
   "source": [
    "print('Plot k-means result...')\n",
    "K = 2\n",
    "km_est = KMeans(K, random_state=42)\n",
    "y_hat = km_est.fit_predict(X_pca)\n",
    "y_hat, terrors, label_map = match_labels(y, y_hat, NUM_CLASS, K)\n",
    "print('Total error for KMeans on PCA: {}'.format(terrors))\n",
    "plot_kmeans_2D(X_pca[:, 0], X_pca[:, 1], y, y_hat,\n",
    "               km_est.cluster_centers_[:, 0:2], NUM_CLASS, K,\n",
    "               label_map, 'PCA data', folder+'kmeans_pca_result.png')\n",
    "print('Done...')\n",
    "\n",
    "print('Kmeans on PCA data finished...')"
   ]
  },
  {
   "cell_type": "code",
   "execution_count": 16,
   "metadata": {},
   "outputs": [
    {
     "name": "stdout",
     "output_type": "stream",
     "text": [
      "\n",
      "Start using PCA features for EM...\n",
      "Generate BIC bar plots...\n",
      "Done...\n"
     ]
    }
   ],
   "source": [
    "Ks = range(2, 20)\n",
    "\n",
    "print()\n",
    "print('Start using PCA features for EM...')\n",
    "\n",
    "print('Generate BIC bar plots...')\n",
    "generate_and_plot_bic_em(Ks, X_pca, 'PCA Data', folder+'em_pca_bic.png')\n",
    "print('Done...')"
   ]
  },
  {
   "cell_type": "code",
   "execution_count": 17,
   "metadata": {},
   "outputs": [
    {
     "name": "stdout",
     "output_type": "stream",
     "text": [
      "Generate Silhouette plots...\n",
      "2\n",
      "Done...\n"
     ]
    }
   ],
   "source": [
    "print('Generate Silhouette plots...')\n",
    "vals = generate_and_plot_silhouette(\n",
    "    Ks, X_pca, 'PCA Data', folder+'em_pca_sil.png',\n",
    "    xleft=-0.2, ncols=10, method='EM'\n",
    ")\n",
    "print(np.argsort(vals)[::-1][0] + 2)\n",
    "print('Done...')"
   ]
  },
  {
   "cell_type": "code",
   "execution_count": 18,
   "metadata": {},
   "outputs": [
    {
     "name": "stdout",
     "output_type": "stream",
     "text": [
      "Plot EM result...\n",
      "Total error for EM on PCA: 129\n",
      "Done...\n",
      "EM on PCA data finished...\n"
     ]
    }
   ],
   "source": [
    "print('Plot EM result...')\n",
    "K = 2\n",
    "em_est = GaussianMixture(K, 'full', random_state=42)\n",
    "y_hat = em_est.fit_predict(X_pca)\n",
    "y_hat, terrors, label_map = match_labels(y, y_hat, NUM_CLASS, K)\n",
    "print('Total error for EM on PCA: {}'.format(terrors))\n",
    "covs = get_covmats(em_est.covariances_, X_pca.shape[1], K, 'full')\n",
    "covmats = covs[:, 0:2, 0:2]\n",
    "plot_em_2D(X_pca[:, 0], X_pca[:, 1], y, y_hat,\n",
    "           em_est.means_[:, 0:2], covmats, NUM_CLASS, K,\n",
    "           label_map, 'PCA Data', folder+'em_pca_result.png')\n",
    "print('Done...')\n",
    "\n",
    "print('EM on PCA data finished...')"
   ]
  },
  {
   "cell_type": "code",
   "execution_count": 106,
   "metadata": {},
   "outputs": [],
   "source": [
    "K = 29\n",
    "ica = FastICA(K, random_state=42, max_iter=2000000)\n",
    "X_centered = X_raw - np.mean(X_raw, axis=0)\n",
    "X_centered -= np.mean(X_centered, axis=1).reshape(X.shape[0], -1)\n",
    "X_ica = ica.fit_transform(X_centered)"
   ]
  },
  {
   "cell_type": "code",
   "execution_count": 107,
   "metadata": {},
   "outputs": [],
   "source": [
    "fig = plt.figure(figsize=(10, 4))\n",
    "ax1 = fig.add_subplot(1, 1, 1)\n",
    "ax1.set_title('Kurtosis of different components')\n",
    "ax1.set_xlabel('K')\n",
    "ax1.set_ylabel('Kurtosis')\n",
    "kur_vals = np.zeros(K, dtype=np.float)\n",
    "for i in range(K):\n",
    "    kur_vals[i] = kurtosis(X_ica[:, i])\n",
    "ax1.plot(range(1, K+1), kur_vals, 'o-', color='blue')\n",
    "plt.savefig(folder+'ica_kurtosis.png', format='png')\n",
    "plt.close()"
   ]
  },
  {
   "cell_type": "code",
   "execution_count": 108,
   "metadata": {},
   "outputs": [],
   "source": [
    "sel_cols = np.argsort(kur_vals)[::-1][0:2]\n",
    "projs = X_ica[:, sel_cols]\n",
    "plt.figure()\n",
    "x_control = projs[:, 0][np.where(y == 0)]\n",
    "y_control = projs[:, 1][np.where(y == 0)]\n",
    "x_cancer = projs[:, 0][np.where(y == 1)]\n",
    "y_cancer = projs[:, 1][np.where(y == 1)]\n",
    "plt.plot(\n",
    "    x_control, y_control,\n",
    "    'o', ms=1, color='red', label='Control'\n",
    ")\n",
    "plt.plot(\n",
    "    x_cancer, y_cancer,\n",
    "    'o', ms=1, color='blue', label='Cancer'\n",
    ")\n",
    "plt.legend(loc='best')\n",
    "plt.savefig(folder + 'ica_kurtosis_outlier.png', format='png')\n",
    "plt.close()"
   ]
  },
  {
   "cell_type": "code",
   "execution_count": 109,
   "metadata": {},
   "outputs": [],
   "source": [
    "rfc = RandomForestClassifier(100, random_state=42)\n",
    "selector = RFECV(rfc, cv=5)\n",
    "selector = selector.fit(X_ica, y)\n",
    "\n",
    "X_ica = X_ica[:, selector.support_]"
   ]
  },
  {
   "cell_type": "code",
   "execution_count": 110,
   "metadata": {},
   "outputs": [
    {
     "data": {
      "text/plain": [
       "array([ True,  True,  True, False,  True, False,  True, False, False,\n",
       "        True,  True,  True, False,  True,  True,  True, False,  True,\n",
       "       False,  True,  True,  True,  True,  True,  True,  True, False,\n",
       "       False,  True])"
      ]
     },
     "execution_count": 110,
     "metadata": {},
     "output_type": "execute_result"
    }
   ],
   "source": [
    "selector.support_"
   ]
  },
  {
   "cell_type": "code",
   "execution_count": 111,
   "metadata": {},
   "outputs": [
    {
     "name": "stdout",
     "output_type": "stream",
     "text": [
      "Generate elbow plots...\n",
      "Done...\n"
     ]
    }
   ],
   "source": [
    "print('Generate elbow plots...')\n",
    "distortions = np.zeros(len(Ks), dtype=np.float)\n",
    "for i, K in enumerate(Ks):\n",
    "    distortions[i] = calculate_distortions(K, X_ica)\n",
    "plot_distortions(Ks, distortions, 'ICA Data', folder+'kmeans_ica_elbow.png')\n",
    "print('Done...')"
   ]
  },
  {
   "cell_type": "code",
   "execution_count": 112,
   "metadata": {},
   "outputs": [
    {
     "name": "stdout",
     "output_type": "stream",
     "text": [
      "Generate Silhouette plots...\n",
      "2\n",
      "Done...\n"
     ]
    }
   ],
   "source": [
    "print('Generate Silhouette plots...')\n",
    "vals = generate_and_plot_silhouette(\n",
    "    Ks, X_ica, 'ICA Data', folder+'kmeans_ica_sil.png',\n",
    "    xleft=-0.2, ncols=10\n",
    ")\n",
    "print(np.argsort(vals)[::-1][0] + 2)\n",
    "print('Done...')"
   ]
  },
  {
   "cell_type": "code",
   "execution_count": 113,
   "metadata": {},
   "outputs": [
    {
     "name": "stdout",
     "output_type": "stream",
     "text": [
      "Plot k-means result...\n",
      "Total error for KMeans on ICA: 55\n",
      "Done...\n",
      "Kmeans on ICA data finished...\n"
     ]
    }
   ],
   "source": [
    "print('Plot k-means result...')\n",
    "K = 2\n",
    "km_est = KMeans(K, random_state=42)\n",
    "y_hat = km_est.fit_predict(X_ica)\n",
    "y_hat, terrors, label_map = match_labels(y, y_hat, NUM_CLASS, K)\n",
    "print('Total error for KMeans on ICA: {}'.format(terrors))\n",
    "plot_kmeans_2D(X_ica[:, 0], X_ica[:, 1], y, y_hat,\n",
    "               km_est.cluster_centers_[:, 0:2], NUM_CLASS, K,\n",
    "               label_map, 'ICA data', folder+'kmeans_ica_result.png')\n",
    "print('Done...')\n",
    "\n",
    "print('Kmeans on ICA data finished...')"
   ]
  },
  {
   "cell_type": "code",
   "execution_count": 114,
   "metadata": {},
   "outputs": [
    {
     "name": "stdout",
     "output_type": "stream",
     "text": [
      "\n",
      "Start using ICA features for EM...\n",
      "Generate BIC bar plots...\n",
      "Done...\n"
     ]
    }
   ],
   "source": [
    "Ks = range(2, 20)\n",
    "\n",
    "print()\n",
    "print('Start using ICA features for EM...')\n",
    "\n",
    "print('Generate BIC bar plots...')\n",
    "generate_and_plot_bic_em(Ks, X_ica, 'ICA Data', folder+'em_ica_bic.png')\n",
    "print('Done...')"
   ]
  },
  {
   "cell_type": "code",
   "execution_count": 115,
   "metadata": {},
   "outputs": [
    {
     "name": "stdout",
     "output_type": "stream",
     "text": [
      "Generate Silhouette plots...\n",
      "2\n",
      "Done...\n"
     ]
    }
   ],
   "source": [
    "print('Generate Silhouette plots...')\n",
    "vals = generate_and_plot_silhouette(\n",
    "    Ks, X_ica, 'ICA Data', folder+'em_ica_sil.png',\n",
    "    xleft=-0.2, ncols=10, method='EM'\n",
    ")\n",
    "print(np.argsort(vals)[::-1][0] + 2)\n",
    "print('Done...')"
   ]
  },
  {
   "cell_type": "code",
   "execution_count": 116,
   "metadata": {},
   "outputs": [
    {
     "name": "stdout",
     "output_type": "stream",
     "text": [
      "Plot EM result...\n",
      "Total error for EM on ICA: 60\n",
      "Done...\n",
      "EM on ICA data finished...\n"
     ]
    }
   ],
   "source": [
    "print('Plot EM result...')\n",
    "K = 2\n",
    "em_est = GaussianMixture(K, 'full', random_state=42)\n",
    "y_hat = em_est.fit_predict(X_ica)\n",
    "y_hat, terrors, label_map = match_labels(y, y_hat, NUM_CLASS, K)\n",
    "print('Total error for EM on ICA: {}'.format(terrors))\n",
    "covs = get_covmats(em_est.covariances_, X_ica.shape[1], K, 'full')\n",
    "covmats = covs[:, 0:2, 0:2]\n",
    "plot_em_2D(X_ica[:, 0], X_ica[:, 1], y, y_hat,\n",
    "           em_est.means_[:, 0:2], covmats, NUM_CLASS, K,\n",
    "           label_map, 'ICA Data', folder+'em_ica_result.png')\n",
    "print('Done...')\n",
    "\n",
    "print('EM on ICA data finished...')"
   ]
  },
  {
   "cell_type": "code",
   "execution_count": 51,
   "metadata": {},
   "outputs": [
    {
     "name": "stdout",
     "output_type": "stream",
     "text": [
      "\n",
      "Start using RP for preprocessing...\n",
      "5437\n"
     ]
    }
   ],
   "source": [
    "print()\n",
    "print('Start using RP for preprocessing...')\n",
    "\n",
    "# Estimate the number of dimensions by JL Lemma\n",
    "print(random_projection.johnson_lindenstrauss_min_dim(X.shape[0], 0.1))\n",
    "\n",
    "K = 6\n",
    "Niter = 100\n",
    "terrors_rp = np.zeros(Niter, dtype=np.float)\n",
    "for i, s in enumerate(range(100)):\n",
    "    rp = random_projection.GaussianRandomProjection(\n",
    "        K, random_state=s\n",
    "    )\n",
    "    X_rp = rp.fit_transform(X)\n",
    "    rfc = RandomForestClassifier(\n",
    "        n_estimators=100, max_depth=2,\n",
    "        random_state=42\n",
    "    )\n",
    "    rfc.fit(X_rp, y)\n",
    "    terrors_rp[i] = rfc.score(X_rp, y)"
   ]
  },
  {
   "cell_type": "code",
   "execution_count": 52,
   "metadata": {},
   "outputs": [],
   "source": [
    "plt.figure()\n",
    "plt.hist(terrors_rp, bins=30)\n",
    "plt.savefig(folder+'rp_matcherrors_hist.png', format='png')\n",
    "plt.close()"
   ]
  },
  {
   "cell_type": "code",
   "execution_count": 53,
   "metadata": {},
   "outputs": [],
   "source": [
    "seed_used = np.argsort(terrors_rp)[::-1][0]\n",
    "rp = random_projection.GaussianRandomProjection(\n",
    "    K, random_state=seed_used\n",
    ")\n",
    "X_rp = rp.fit_transform(X)"
   ]
  },
  {
   "cell_type": "code",
   "execution_count": 54,
   "metadata": {},
   "outputs": [
    {
     "name": "stdout",
     "output_type": "stream",
     "text": [
      "Start using RP features for K-means...\n",
      "Generate elbow plots...\n",
      "Done...\n"
     ]
    }
   ],
   "source": [
    "Ks = range(2, 20)\n",
    "\n",
    "print('Start using RP features for K-means...')\n",
    "\n",
    "print('Generate elbow plots...')\n",
    "distortions = np.zeros(len(Ks), dtype=np.float)\n",
    "for i, K in enumerate(Ks):\n",
    "    distortions[i] = calculate_distortions(K, X_rp)\n",
    "plot_distortions(Ks, distortions, 'RP Data', folder+'kmeans_rp_elbow.png')\n",
    "print('Done...')"
   ]
  },
  {
   "cell_type": "code",
   "execution_count": 55,
   "metadata": {},
   "outputs": [
    {
     "name": "stdout",
     "output_type": "stream",
     "text": [
      "Generate Silhouette plots...\n",
      "2\n",
      "Done...\n"
     ]
    }
   ],
   "source": [
    "print('Generate Silhouette plots...')\n",
    "vals = generate_and_plot_silhouette(\n",
    "    Ks, X_rp, 'RP Data', folder+'kmeans_rp_sil.png',\n",
    "    xleft=-0.2, ncols=10\n",
    ")\n",
    "print(np.argsort(vals)[::-1][0] + 2)\n",
    "print('Done...')"
   ]
  },
  {
   "cell_type": "code",
   "execution_count": 56,
   "metadata": {},
   "outputs": [
    {
     "name": "stdout",
     "output_type": "stream",
     "text": [
      "Plot k-means result...\n",
      "Total error for KMeans on RP: 43\n",
      "Done...\n"
     ]
    }
   ],
   "source": [
    "print('Plot k-means result...')\n",
    "K = 2\n",
    "km_est = KMeans(K, random_state=42)\n",
    "y_hat = km_est.fit_predict(X_rp)\n",
    "y_hat, terrors, label_map = match_labels(y, y_hat, NUM_CLASS, K)\n",
    "print('Total error for KMeans on RP: {}'.format(terrors))\n",
    "plot_kmeans_2D(X_rp[:, 0], X_rp[:, 1], y, y_hat,\n",
    "               km_est.cluster_centers_[:, 0:2], NUM_CLASS, K,\n",
    "               label_map, 'RP data', folder+'kmeans_rp_result.png')\n",
    "print('Done...')"
   ]
  },
  {
   "cell_type": "code",
   "execution_count": 57,
   "metadata": {},
   "outputs": [
    {
     "name": "stdout",
     "output_type": "stream",
     "text": [
      "\n",
      "Start using RP features for EM...\n",
      "Generate BIC bar plots...\n",
      "Done...\n"
     ]
    }
   ],
   "source": [
    "Ks = range(2, 20)\n",
    "\n",
    "print()\n",
    "print('Start using RP features for EM...')\n",
    "\n",
    "print('Generate BIC bar plots...')\n",
    "generate_and_plot_bic_em(Ks, X_rp, 'RP Data', folder+'em_rp_bic.png')\n",
    "print('Done...')"
   ]
  },
  {
   "cell_type": "code",
   "execution_count": 58,
   "metadata": {},
   "outputs": [
    {
     "name": "stdout",
     "output_type": "stream",
     "text": [
      "Generate Silhouette plots...\n",
      "2\n",
      "Done...\n"
     ]
    }
   ],
   "source": [
    "print('Generate Silhouette plots...')\n",
    "vals = generate_and_plot_silhouette(\n",
    "    Ks, X_rp, 'RP Data', folder+'em_rp_sil.png',\n",
    "    xleft=-0.2, ncols=10, method='EM'\n",
    ")\n",
    "print(np.argsort(vals)[::-1][0] + 2)\n",
    "print('Done...')"
   ]
  },
  {
   "cell_type": "code",
   "execution_count": 59,
   "metadata": {},
   "outputs": [
    {
     "name": "stdout",
     "output_type": "stream",
     "text": [
      "Plot EM result...\n",
      "Total error for EM on RP: 34\n",
      "Done...\n",
      "EM on RP data finished...\n"
     ]
    }
   ],
   "source": [
    "print('Plot EM result...')\n",
    "K = 2\n",
    "em_est = GaussianMixture(K, 'full', random_state=42)\n",
    "y_hat = em_est.fit_predict(X_rp)\n",
    "y_hat, terrors, label_map = match_labels(y, y_hat, NUM_CLASS, K)\n",
    "print('Total error for EM on RP: {}'.format(terrors))\n",
    "covs = get_covmats(em_est.covariances_, X_rp.shape[1], K, 'full')\n",
    "covmats = covs[:, 0:2, 0:2]\n",
    "plot_em_2D(X_rp[:, 0], X_rp[:, 1], y, y_hat,\n",
    "           em_est.means_[:, 0:2], covmats, NUM_CLASS, K,\n",
    "           label_map, 'RP Data', folder+'em_rp_result.png')\n",
    "print('Done...')\n",
    "\n",
    "print('EM on RP data finished...')"
   ]
  },
  {
   "cell_type": "code",
   "execution_count": 60,
   "metadata": {},
   "outputs": [
    {
     "name": "stdout",
     "output_type": "stream",
     "text": [
      "\n",
      "Start selecting number of features using RFECV...\n",
      "Done...\n"
     ]
    }
   ],
   "source": [
    "print()\n",
    "\n",
    "print('Start selecting number of features using RFECV...')\n",
    "rfc = RandomForestClassifier(100, random_state=42)\n",
    "selector = RFECV(rfc, cv=5)\n",
    "selector = selector.fit(X, y)\n",
    "\n",
    "X_fs = X[:, selector.support_]\n",
    "print('Done...')"
   ]
  },
  {
   "cell_type": "code",
   "execution_count": 61,
   "metadata": {},
   "outputs": [
    {
     "name": "stdout",
     "output_type": "stream",
     "text": [
      "Start using FS features for K-means...\n",
      "Generate elbow plots...\n",
      "Done...\n"
     ]
    }
   ],
   "source": [
    "Ks = range(2, 20)\n",
    "\n",
    "print('Start using FS features for K-means...')\n",
    "\n",
    "print('Generate elbow plots...')\n",
    "distortions = np.zeros(len(Ks), dtype=np.float)\n",
    "for i, K in enumerate(Ks):\n",
    "    distortions[i] = calculate_distortions(K, X_fs)\n",
    "plot_distortions(Ks, distortions, 'RFECV Data', folder+'kmeans_fs_elbow.png')\n",
    "print('Done...')"
   ]
  },
  {
   "cell_type": "code",
   "execution_count": 62,
   "metadata": {},
   "outputs": [
    {
     "name": "stdout",
     "output_type": "stream",
     "text": [
      "Generate Silhouette plots...\n",
      "2\n",
      "Done...\n"
     ]
    }
   ],
   "source": [
    "print('Generate Silhouette plots...')\n",
    "vals = generate_and_plot_silhouette(\n",
    "    Ks, X_fs, 'RFECV Data', folder+'kmeans_fs_sil.png',\n",
    "    xleft=-0.2, ncols=10\n",
    ")\n",
    "print(np.argsort(vals)[::-1][0] + 2)\n",
    "print('Done...')"
   ]
  },
  {
   "cell_type": "code",
   "execution_count": 63,
   "metadata": {},
   "outputs": [
    {
     "name": "stdout",
     "output_type": "stream",
     "text": [
      "Plot k-means result...\n",
      "Total error for KMeans on RFECV: 43\n",
      "Done...\n",
      "Kmeans on RFECV data finished...\n"
     ]
    }
   ],
   "source": [
    "print('Plot k-means result...')\n",
    "K = 2\n",
    "km_est = KMeans(K, random_state=42)\n",
    "y_hat = km_est.fit_predict(X_fs)\n",
    "y_hat, terrors, label_map = match_labels(y, y_hat, NUM_CLASS, K)\n",
    "print('Total error for KMeans on RFECV: {}'.format(terrors))\n",
    "plot_pca = PCA(2, random_state=42)\n",
    "projs = plot_pca.fit_transform(X_fs)\n",
    "plot_kmeans_2D(projs[:, 0], projs[:, 1], y, y_hat,\n",
    "               plot_pca.transform(km_est.cluster_centers_), NUM_CLASS, K,\n",
    "               label_map, 'RFECV data', folder+'kmeans_fs_result.png')\n",
    "print('Done...')\n",
    "\n",
    "print('Kmeans on RFECV data finished...')"
   ]
  },
  {
   "cell_type": "code",
   "execution_count": 64,
   "metadata": {},
   "outputs": [
    {
     "name": "stdout",
     "output_type": "stream",
     "text": [
      "\n",
      "Start using RFECV for EM...\n",
      "Generate BIC bar plots...\n",
      "Done...\n"
     ]
    }
   ],
   "source": [
    "Ks = range(2, 20)\n",
    "\n",
    "print()\n",
    "print('Start using RFECV for EM...')\n",
    "\n",
    "print('Generate BIC bar plots...')\n",
    "generate_and_plot_bic_em(Ks, X_fs, 'RFECV Data', folder+'em_fs_bic.png')\n",
    "print('Done...')"
   ]
  },
  {
   "cell_type": "code",
   "execution_count": 65,
   "metadata": {},
   "outputs": [
    {
     "name": "stdout",
     "output_type": "stream",
     "text": [
      "Generate Silhouette plots...\n",
      "2\n",
      "Done...\n"
     ]
    }
   ],
   "source": [
    "print('Generate Silhouette plots...')\n",
    "vals = generate_and_plot_silhouette(\n",
    "    Ks, X_fs, 'RFECV Data', folder+'em_fs_sil.png',\n",
    "    xleft=-0.2, ncols=10, method='EM'\n",
    ")\n",
    "print(np.argsort(vals)[::-1][0] + 2)\n",
    "print('Done...')"
   ]
  },
  {
   "cell_type": "code",
   "execution_count": 66,
   "metadata": {},
   "outputs": [
    {
     "name": "stdout",
     "output_type": "stream",
     "text": [
      "Plot EM result...\n",
      "Total errors for EM on RFECV: 44\n",
      "Done...\n",
      "EM on RFECV data finished...\n"
     ]
    }
   ],
   "source": [
    "print('Plot EM result...')\n",
    "K = 2\n",
    "em_est = GaussianMixture(K, 'full', random_state=42)\n",
    "y_hat = em_est.fit_predict(X_fs)\n",
    "y_hat, terrors, label_map = match_labels(y, y_hat, NUM_CLASS, K)\n",
    "print('Total errors for EM on RFECV: {}'.format(terrors))\n",
    "plot_pca = PCA(2, random_state=42)\n",
    "projs = plot_pca.fit_transform(X_fs)\n",
    "covs = get_covmats(em_est.covariances_, X_fs.shape[1], K, 'full')\n",
    "covmats = np.matmul(\n",
    "    np.matmul(plot_pca.components_, covs),\n",
    "    plot_pca.components_.T\n",
    ")\n",
    "plot_em_2D(projs[:, 0], projs[:, 1], y, y_hat,\n",
    "           plot_pca.transform(em_est.means_), covmats, NUM_CLASS, K,\n",
    "           label_map, 'RFECV Data', folder+'em_fs_result.png')\n",
    "print('Done...')\n",
    "\n",
    "print('EM on RFECV data finished...')"
   ]
  },
  {
   "cell_type": "code",
   "execution_count": 67,
   "metadata": {},
   "outputs": [
    {
     "name": "stdout",
     "output_type": "stream",
     "text": [
      "\n",
      "Test neural network performances...\n",
      "Collect data...\n",
      "Done...\n"
     ]
    }
   ],
   "source": [
    "print()\n",
    "print('Test neural network performances...')\n",
    "nnet = MLPClassifier((10,), random_state=42, max_iter=200000)\n",
    "\n",
    "cv_scores = np.zeros(7, dtype=np.float)\n",
    "cv_stds = np.zeros(7, dtype=np.float)\n",
    "run_times = np.zeros(7, dtype=np.float)\n",
    "\n",
    "kmest = KMeans(2, random_state=42)\n",
    "emest = GaussianMixture(2, 'full', random_state=42)\n",
    "\n",
    "X_km = kmest.fit_predict(X).reshape(-1, 1)\n",
    "X_em = emest.fit_predict(X).reshape(-1, 1)\n",
    "\n",
    "features = [X, X_pca, X_ica, X_rp, X_fs, X_km, X_em]\n",
    "labels = ['Raw', 'PCA', 'ICA', 'Random Projection', 'RFECV',\n",
    "          'Kmeans', 'Expectation Maximum']\n",
    "\n",
    "print('Collect data...')\n",
    "for i, (X_input, name) in enumerate(zip(features, labels)):\n",
    "    start = time.time()\n",
    "    vals = cross_val_score(nnet, X_input, y, cv=5)\n",
    "    cv_scores[i] = vals.mean()\n",
    "    cv_stds[i] = vals.std()\n",
    "    run_times[i] = time.time() - start\n",
    "\n",
    "fig = plt.figure(figsize=(10, 10))\n",
    "barwidth = 0.25\n",
    "\n",
    "ax1 = fig.add_subplot(211)\n",
    "midpoints = np.arange(cv_scores.shape[0])\n",
    "ax1.bar(\n",
    "    midpoints, cv_scores, yerr=cv_stds,\n",
    "    color='red', width=barwidth, capsize=5\n",
    ")\n",
    "ax1.set_title('Performance using difference features')\n",
    "ax1.set_xlabel('Methods')\n",
    "ax1.set_ylabel('Scores')\n",
    "ax1.set_xticks(midpoints)\n",
    "ax1.set_xticklabels(labels)\n",
    "\n",
    "ax2 = fig.add_subplot(212)\n",
    "ax2.bar(\n",
    "    midpoints, run_times,\n",
    "    color='blue', width=barwidth\n",
    ")\n",
    "ax2.set_title('Time spent for training')\n",
    "ax2.set_xlabel('Methods')\n",
    "ax2.set_ylabel('Time')\n",
    "ax2.set_xticks(midpoints)\n",
    "ax2.set_xticklabels(labels)\n",
    "\n",
    "plt.savefig(folder+'nn_performances.png', format='png')\n",
    "plt.close()\n",
    "print('Done...')"
   ]
  },
  {
   "cell_type": "code",
   "execution_count": 3,
   "metadata": {},
   "outputs": [],
   "source": [
    "pca = PCA(n_components = 30, random_state=42)"
   ]
  },
  {
   "cell_type": "code",
   "execution_count": 4,
   "metadata": {},
   "outputs": [],
   "source": [
    "X_pca = pca.fit_transform(X)"
   ]
  },
  {
   "cell_type": "code",
   "execution_count": 9,
   "metadata": {},
   "outputs": [
    {
     "data": {
      "text/plain": [
       "KMeans(algorithm='auto', copy_x=True, init='k-means++', max_iter=300,\n",
       "       n_clusters=10, n_init=10, n_jobs=None, precompute_distances='auto',\n",
       "       random_state=42, tol=0.0001, verbose=0)"
      ]
     },
     "execution_count": 9,
     "metadata": {},
     "output_type": "execute_result"
    }
   ],
   "source": [
    "em_raw = KMeans(10, random_state=42)\n",
    "em_pca = KMeans(10, random_state=42)\n",
    "em_raw.fit(X)\n",
    "em_pca.fit(X_pca)"
   ]
  },
  {
   "cell_type": "code",
   "execution_count": 10,
   "metadata": {},
   "outputs": [],
   "source": [
    "y_hat_raw, _, _ = match_labels(y, em_raw.predict(X), 2, 10)\n",
    "y_hat_pca, _, _ = match_labels(y, em_pca.predict(X_pca), 2, 10)"
   ]
  },
  {
   "cell_type": "code",
   "execution_count": 13,
   "metadata": {},
   "outputs": [
    {
     "data": {
      "text/plain": [
       "array([0, 0, 0, 0, 0, 0, 0, 0, 0, 0, 0, 0, 0, 0, 0, 0, 0, 0, 0, 0, 0, 0,\n",
       "       0, 0, 0, 0, 0, 0, 0, 0, 0, 0, 0, 0, 0, 0, 0, 0, 0, 0, 0, 0, 0, 0,\n",
       "       0, 0, 0, 0, 0, 0, 0, 0, 0, 0, 0, 0, 0, 0, 0, 0, 0, 0, 0, 0, 0, 0,\n",
       "       0, 0, 0, 0, 0, 0, 0, 0, 0, 0, 0, 0, 0, 0, 0, 0, 0, 0, 0, 0, 0, 0,\n",
       "       0, 0, 0, 0, 0, 0, 0, 0, 0, 0, 0, 0, 0, 0, 0, 0, 0, 0, 0, 0, 0, 0,\n",
       "       0, 0, 0, 0, 0, 0, 0, 0, 0, 0, 0, 0, 0, 0, 0, 0, 0, 0, 0, 0, 0, 0,\n",
       "       0, 0, 0, 0, 0, 0, 0, 0, 0, 0, 0, 0, 0, 0, 0, 0, 0, 0, 0, 0, 0, 0,\n",
       "       0, 0, 0, 0, 0, 0, 0, 0, 0, 0, 0, 0, 0, 0, 0, 0, 0, 0, 0, 0, 0, 0,\n",
       "       0, 0, 0, 0, 0, 0, 0, 0, 0, 0, 0, 0, 0, 0, 0, 0, 0, 0, 0, 0, 0, 0,\n",
       "       0, 0, 0, 0, 0, 0, 0, 0, 0, 0, 0, 0, 0, 0, 0, 0, 0, 0, 0, 0, 0, 0,\n",
       "       0, 0, 0, 0, 0, 0, 0, 0, 0, 0, 0, 0, 0, 0, 0, 0, 0, 0, 0, 0, 0, 0,\n",
       "       0, 0, 0, 0, 0, 0, 0, 0, 0, 0, 0, 0, 0, 0, 0, 0, 0, 0, 0, 0, 0, 0,\n",
       "       0, 0, 0, 0, 0, 0, 0, 0, 0, 0, 0, 0, 0, 0, 0, 0, 0, 0, 0, 0, 0, 0,\n",
       "       0, 0, 0, 0, 0, 0, 0, 0, 0, 0, 0, 0, 0, 0, 0, 0, 0, 0, 0, 0, 0, 0,\n",
       "       0, 0, 0, 0, 0, 0, 0, 0, 0, 0, 0, 0, 0, 0, 0, 0, 0, 0, 0, 0, 0, 0,\n",
       "       0, 0, 0, 0, 0, 0, 0, 0, 0, 0, 0, 0, 0, 0, 0, 0, 0, 0, 0, 0, 0, 0,\n",
       "       0, 0, 0, 0, 0, 0, 0, 0, 0, 0, 0, 0, 0, 0, 0, 0, 0, 0, 0, 0, 0, 0,\n",
       "       0, 0, 0, 0, 0, 0, 0, 0, 0, 0, 0, 0, 0, 0, 0, 0, 0, 0, 0, 0, 0, 0,\n",
       "       0, 0, 0, 0, 0, 0, 0, 0, 0, 0, 0, 0, 0, 0, 0, 0, 0, 0, 0, 0, 0, 0,\n",
       "       0, 0, 0, 0, 0, 0, 0, 0, 0, 0, 0, 0, 0, 0, 0, 0, 0, 0, 0, 0, 0, 0,\n",
       "       0, 0, 0, 0, 0, 0, 0, 0, 0, 0, 0, 0, 0, 0, 0, 0, 0, 0, 0, 0, 0, 0,\n",
       "       0, 0, 0, 0, 0, 0, 0, 0, 0, 0, 0, 0, 0, 0, 0, 0, 0, 0, 0, 0, 0, 0,\n",
       "       0, 0, 0, 0, 0, 0, 0, 0, 0, 0, 0, 0, 0, 0, 0, 0, 0, 0, 0, 0, 0, 0,\n",
       "       0, 0, 0, 0, 0, 0, 0, 0, 0, 0, 0, 0, 0, 0, 0, 0, 0, 0, 0, 0, 0, 0,\n",
       "       0, 0, 0, 0, 0, 0, 0, 0, 0, 0, 0, 0, 0, 0, 0, 0, 0, 0, 0, 0, 0, 0,\n",
       "       0, 0, 0, 0, 0, 0, 0, 0, 0, 0, 0, 0, 0, 0, 0, 0, 0, 0, 0])"
      ]
     },
     "execution_count": 13,
     "metadata": {},
     "output_type": "execute_result"
    }
   ],
   "source": [
    "y_hat_raw - y_hat_pca"
   ]
  },
  {
   "cell_type": "code",
   "execution_count": 12,
   "metadata": {},
   "outputs": [
    {
     "data": {
      "text/plain": [
       "array([0, 0, 0, 0, 0, 0, 0, 0, 0, 0, 1, 0, 0, 1, 0, 0, 1, 0, 0, 1, 1, 1,\n",
       "       0, 0, 0, 0, 0, 0, 0, 0, 0, 0, 0, 0, 0, 0, 0, 1, 1, 1, 1, 1, 0, 1,\n",
       "       1, 0, 1, 0, 1, 1, 1, 1, 1, 0, 1, 1, 0, 0, 1, 1, 1, 1, 0, 1, 0, 0,\n",
       "       1, 1, 1, 1, 0, 1, 0, 1, 1, 0, 1, 0, 0, 1, 1, 0, 0, 0, 1, 0, 1, 0,\n",
       "       1, 1, 1, 1, 1, 1, 0, 0, 1, 1, 1, 1, 1, 1, 1, 1, 1, 0, 1, 1, 0, 1,\n",
       "       1, 1, 1, 1, 1, 1, 1, 0, 0, 0, 1, 0, 0, 1, 1, 1, 1, 0, 1, 0, 1, 0,\n",
       "       0, 1, 0, 1, 1, 1, 0, 1, 1, 0, 1, 1, 1, 1, 0, 1, 1, 1, 1, 1, 1, 1,\n",
       "       1, 1, 0, 1, 1, 1, 1, 0, 0, 1, 0, 1, 1, 0, 0, 1, 1, 1, 0, 1, 1, 1,\n",
       "       1, 0, 1, 1, 0, 0, 0, 1, 1, 1, 0, 1, 1, 1, 0, 1, 1, 0, 0, 1, 0, 0,\n",
       "       0, 0, 1, 0, 0, 0, 1, 1, 1, 0, 1, 1, 0, 1, 0, 1, 0, 0, 1, 1, 0, 0,\n",
       "       1, 1, 1, 0, 1, 1, 1, 1, 1, 0, 0, 1, 1, 0, 1, 1, 0, 0, 1, 0, 1, 1,\n",
       "       1, 1, 0, 1, 1, 1, 1, 1, 0, 1, 0, 0, 0, 1, 0, 0, 0, 0, 0, 1, 0, 1,\n",
       "       0, 0, 1, 1, 1, 1, 1, 1, 0, 1, 1, 1, 1, 0, 1, 1, 0, 1, 0, 0, 1, 1,\n",
       "       1, 1, 1, 1, 1, 1, 1, 1, 1, 1, 1, 1, 1, 1, 0, 1, 0, 1, 1, 1, 1, 1,\n",
       "       1, 1, 1, 1, 1, 1, 1, 1, 1, 0, 1, 1, 1, 0, 1, 0, 1, 1, 1, 1, 0, 1,\n",
       "       0, 1, 1, 1, 1, 0, 1, 0, 1, 0, 1, 1, 1, 0, 1, 1, 1, 1, 1, 1, 1, 0,\n",
       "       0, 0, 1, 1, 1, 1, 1, 1, 1, 1, 1, 1, 1, 0, 0, 1, 0, 0, 0, 1, 0, 0,\n",
       "       1, 1, 1, 1, 1, 0, 1, 1, 1, 1, 1, 1, 1, 1, 1, 0, 1, 1, 0, 0, 1, 1,\n",
       "       1, 1, 1, 1, 0, 1, 1, 1, 1, 1, 1, 1, 0, 1, 1, 1, 1, 1, 1, 1, 1, 0,\n",
       "       1, 1, 1, 1, 1, 1, 1, 1, 1, 1, 1, 1, 0, 1, 0, 0, 1, 1, 1, 1, 1, 1,\n",
       "       1, 0, 1, 1, 0, 1, 0, 1, 1, 0, 1, 0, 1, 1, 1, 1, 1, 1, 1, 1, 0, 0,\n",
       "       1, 1, 1, 0, 1, 1, 0, 1, 1, 1, 1, 1, 1, 1, 1, 1, 1, 0, 1, 1, 1, 1,\n",
       "       1, 1, 1, 0, 1, 1, 1, 1, 0, 1, 1, 1, 1, 1, 0, 0, 1, 0, 1, 0, 1, 1,\n",
       "       1, 1, 1, 0, 1, 1, 0, 1, 1, 1, 0, 0, 1, 1, 1, 0, 1, 1, 1, 1, 1, 1,\n",
       "       1, 1, 1, 1, 1, 0, 1, 0, 1, 1, 1, 1, 1, 1, 1, 1, 1, 1, 1, 1, 1, 1,\n",
       "       1, 1, 1, 1, 1, 1, 1, 1, 1, 1, 1, 1, 0, 0, 0, 0, 1, 0, 1])"
      ]
     },
     "execution_count": 12,
     "metadata": {},
     "output_type": "execute_result"
    }
   ],
   "source": [
    "y_hat_pca"
   ]
  },
  {
   "cell_type": "code",
   "execution_count": null,
   "metadata": {},
   "outputs": [],
   "source": []
  }
 ],
 "metadata": {
  "kernelspec": {
   "display_name": "Python 3",
   "language": "python",
   "name": "python3"
  },
  "language_info": {
   "codemirror_mode": {
    "name": "ipython",
    "version": 3
   },
   "file_extension": ".py",
   "mimetype": "text/x-python",
   "name": "python",
   "nbconvert_exporter": "python",
   "pygments_lexer": "ipython3",
   "version": "3.6.9"
  }
 },
 "nbformat": 4,
 "nbformat_minor": 2
}
